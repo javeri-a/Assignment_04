{
  "nbformat": 4,
  "nbformat_minor": 0,
  "metadata": {
    "colab": {
      "provenance": [],
      "authorship_tag": "ABX9TyMeSvU4xfWAmaqpZMznF1rQ",
      "include_colab_link": true
    },
    "kernelspec": {
      "name": "python3",
      "display_name": "Python 3"
    },
    "language_info": {
      "name": "python"
    }
  },
  "cells": [
    {
      "cell_type": "markdown",
      "metadata": {
        "id": "view-in-github",
        "colab_type": "text"
      },
      "source": [
        "<a href=\"https://colab.research.google.com/github/javeri-a/Assignment_04/blob/main/assignment_06.ipynb\" target=\"_parent\"><img src=\"https://colab.research.google.com/assets/colab-badge.svg\" alt=\"Open In Colab\"/></a>"
      ]
    },
    {
      "cell_type": "markdown",
      "source": [
        "**1. Using self**\n",
        "Assignment:\n",
        "Create a class Student with attributes name and marks. Use the self keyword to initialize these values via a constructor. Add a method display() that prints student details.\n"
      ],
      "metadata": {
        "id": "22MkikYDDMHR"
      }
    },
    {
      "cell_type": "code",
      "source": [
        "class Car:\n",
        "    def __init__(self,model,colour , price):\n",
        "        self.model = model\n",
        "        self.colour = colour\n",
        "        self.price = price\n",
        "\n",
        "    def display(self):\n",
        "            print(f\"Model is {self.model} and Colour is {self.colour} and Price is {self.price}\")\n",
        "Car1 = Car(\"BMW\", \"Black\", 5000000)\n",
        "Car1.display()\n"
      ],
      "metadata": {
        "id": "NnSO_wfYDbQg",
        "colab": {
          "base_uri": "https://localhost:8080/"
        },
        "outputId": "200d16d6-eda1-44d1-93c5-33ceed8e5739"
      },
      "execution_count": null,
      "outputs": [
        {
          "output_type": "stream",
          "name": "stdout",
          "text": [
            "Model is BMW and Colour is Black and Price is 5000000\n"
          ]
        }
      ]
    },
    {
      "cell_type": "markdown",
      "source": [
        "**2. Using cls**\n",
        "Assignment:\n",
        "Create a class Counter that keeps track of how many objects have been created. Use a class variable and a class method with cls to manage and display the count."
      ],
      "metadata": {
        "id": "6tTphFj3Dv0w"
      }
    },
    {
      "cell_type": "code",
      "source": [
        "class Counter:\n",
        "     count = 0\n",
        "     def __init__(self):\n",
        "          Counter.count += 1\n",
        "\n",
        "     @classmethod\n",
        "     def show_count(cls):\n",
        "         print(f\"Count is {cls.count}\")\n",
        "\n",
        "C1 = Counter()\n",
        "C2 = Counter()\n",
        "C3 = Counter()\n",
        "\n",
        "Counter.show_count()"
      ],
      "metadata": {
        "colab": {
          "base_uri": "https://localhost:8080/"
        },
        "id": "L5ZgClKfD5Eu",
        "outputId": "20033199-c7f0-4799-c7d0-f25cfe6f4b12"
      },
      "execution_count": null,
      "outputs": [
        {
          "output_type": "stream",
          "name": "stdout",
          "text": [
            "Count is 3\n"
          ]
        }
      ]
    },
    {
      "cell_type": "markdown",
      "source": [
        "**3. Public Variables and Methods**\n",
        "Assignment:\n",
        "Create a class Car with a public variable brand and a public method start(). Instantiate the class and access both from outside the class."
      ],
      "metadata": {
        "id": "DHIIIMoqEPeW"
      }
    },
    {
      "cell_type": "code",
      "source": [
        "class Cars:\n",
        "    def __init__(self, model, colour, price):\n",
        "         self.model = model\n",
        "         self.colour = colour\n",
        "         self.price = price\n",
        "\n",
        "    def start(self):\n",
        "         print(f\"{self.model} is starting\")\n",
        "\n",
        "    def stop(self):\n",
        "            print(f\"{self.model} is stopping\")\n",
        "\n",
        "car1 = Cars(\"BMW\", \"Black\", 5000000)\n",
        "car1.start()\n",
        "car1.stop()\n",
        "\n"
      ],
      "metadata": {
        "colab": {
          "base_uri": "https://localhost:8080/"
        },
        "id": "46LPid_sESgv",
        "outputId": "11408950-5f7f-48b2-e281-1528d1fdf8b1"
      },
      "execution_count": null,
      "outputs": [
        {
          "output_type": "stream",
          "name": "stdout",
          "text": [
            "BMW is starting\n",
            "BMW is stopping\n"
          ]
        }
      ]
    },
    {
      "cell_type": "markdown",
      "source": [
        "**4. Class Variables and Class Methods**\n",
        "Assignment:\n",
        "Create a class Bank with a class variable bank_name. Add a class method change_bank_name(cls, name) that allows changing the bank name. Show that it affects all instances.\n",
        "\n"
      ],
      "metadata": {
        "id": "e1pkC4a-iHEJ"
      }
    },
    {
      "cell_type": "code",
      "source": [
        "class Bank:\n",
        "  bank_name = \"HBL Bank\"\n",
        "\n",
        "  @classmethod\n",
        "  def change_bank_name(cls,name):\n",
        "   cls.bank_name = name\n",
        "\n",
        "branch1 = Bank()\n",
        "branch2 = Bank()\n",
        "branch3 = Bank()\n",
        "\n",
        "print(\"Before changing bank name:\")\n",
        "print(\"Branch 1:\", branch1.bank_name)\n",
        "print(\"Branch 2:\", branch2.bank_name)\n",
        "print(\"Branch 3:\", branch3.bank_name)\n",
        "\n",
        "Bank.change_bank_name(\"Bank Al Habib\")\n",
        "print(\"\\nAfter changing bank name:\")\n",
        "print(\"Branch 1:\", branch1.bank_name)\n",
        "print(\"Branch 2:\", branch2.bank_name)\n",
        "print(\"Branch 3:\", branch3.bank_name)\n"
      ],
      "metadata": {
        "colab": {
          "base_uri": "https://localhost:8080/"
        },
        "id": "ogcis0lSOucb",
        "outputId": "b03c8c6a-c77c-4e28-d839-4a14df1fa2ec"
      },
      "execution_count": null,
      "outputs": [
        {
          "output_type": "stream",
          "name": "stdout",
          "text": [
            "Before changing bank name:\n",
            "Branch 1: HBL Bank\n",
            "Branch 2: HBL Bank\n",
            "Branch 3: HBL Bank\n",
            "\n",
            "After changing bank name:\n",
            "Branch 1: Bank Al Habib\n",
            "Branch 2: Bank Al Habib\n",
            "Branch 3: Bank Al Habib\n"
          ]
        }
      ]
    },
    {
      "cell_type": "markdown",
      "source": [
        "**5. Static Variables and Static Methods**\n",
        "Assignment:\n",
        "Create a class MathUtils with a static method add(a, b) that returns the sum. No class or instance variables should be used"
      ],
      "metadata": {
        "id": "MaTE84GWSBPs"
      }
    },
    {
      "cell_type": "code",
      "source": [
        "class MathUtils:\n",
        "    @staticmethod\n",
        "    def add(a, b):\n",
        "        return a + b\n",
        "result = MathUtils.add(7,9)\n",
        "print(\"sum is\", result)"
      ],
      "metadata": {
        "colab": {
          "base_uri": "https://localhost:8080/"
        },
        "id": "Y0R9JTyaSEhw",
        "outputId": "863d4cd4-d92f-4a64-a30f-011b126272db"
      },
      "execution_count": null,
      "outputs": [
        {
          "output_type": "stream",
          "name": "stdout",
          "text": [
            "sum is 16\n"
          ]
        }
      ]
    },
    {
      "cell_type": "markdown",
      "source": [
        "**6. Constructors and Destructors**\n",
        "Assignment:\n",
        "Create a class Logger that prints a message when an object is created (constructor) and another message when it is destroyed (destructor)."
      ],
      "metadata": {
        "id": "IoV6er72ULyc"
      }
    },
    {
      "cell_type": "code",
      "source": [
        "class Logger:\n",
        "  def __init__(self):\n",
        "   print(\"LOGGER STARTED\")\n",
        "\n",
        "  def __del__(self):\n",
        "    print(\"LOGGER STOPPED\")\n",
        "\n",
        "logger = Logger()\n",
        "del logger\n",
        "\n"
      ],
      "metadata": {
        "colab": {
          "base_uri": "https://localhost:8080/"
        },
        "id": "1f8xECnRUYEJ",
        "outputId": "6ea05b66-c8d8-4d56-f266-36522285ecfb"
      },
      "execution_count": null,
      "outputs": [
        {
          "output_type": "stream",
          "name": "stdout",
          "text": [
            "LOGGER STARTED\n",
            "LOGGER STOPPED\n"
          ]
        }
      ]
    },
    {
      "cell_type": "markdown",
      "source": [
        ".** Access Modifiers: Public, Private, and Protected**\n",
        "Assignment:\n",
        "Create a class Employee with:\n",
        "\n",
        "a public variable name,\n",
        "\n",
        "a protected variable _salary, and\n",
        "\n",
        "a private variable __ssn.\n",
        "\n",
        "Try accessing all three variables from an object of the class and document what happens.\n",
        "\n"
      ],
      "metadata": {
        "id": "T3V4lzLcVyEh"
      }
    },
    {
      "cell_type": "code",
      "source": [
        "class Employee:\n",
        "    def __init__(self, name, salary, ssn):\n",
        "        self.name = name\n",
        "        self._salary = salary\n",
        "        self.__ssn = ssn\n",
        "\n",
        "    def show_info(self):\n",
        "        print(\"Inside the class:\")\n",
        "        print(\"Name:\", self.name)\n",
        "        print(\"Salary:\", self._salary)\n",
        "        print(\"SSN:\", self.__ssn)\n",
        "\n",
        "emp = Employee(\"Javeria\", 50000, \"123-45-6789\")\n",
        "\n",
        "print(\"Public Access:\")\n",
        "print(emp.name)\n",
        "\n",
        "print(\"\\nProtected Access:\")\n",
        "print(emp._salary)\n",
        "\n",
        "print(\"\\nPrivate Access:\")\n",
        "try:\n",
        "    print(emp.__ssn)\n",
        "except AttributeError as e:\n",
        "    print(\"Error:\", e)\n",
        "\n",
        "print(\"\\nAccessing Private Variable using name mangling:\")\n",
        "print(emp._Employee__ssn)\n",
        "\n",
        "print(\"\\nUsing class method:\")\n",
        "emp.show_info()\n"
      ],
      "metadata": {
        "colab": {
          "base_uri": "https://localhost:8080/"
        },
        "id": "2LjoyxMZapv2",
        "outputId": "3fcca30d-240e-4db6-f0cb-2ae5efc73972"
      },
      "execution_count": null,
      "outputs": [
        {
          "output_type": "stream",
          "name": "stdout",
          "text": [
            "Public Access:\n",
            "Javeria\n",
            "\n",
            "Protected Access:\n",
            "50000\n",
            "\n",
            "Private Access:\n",
            "Error: 'Employee' object has no attribute '__ssn'\n",
            "\n",
            "Accessing Private Variable using name mangling:\n",
            "123-45-6789\n",
            "\n",
            "Using class method:\n",
            "Inside the class:\n",
            "Name: Javeria\n",
            "Salary: 50000\n",
            "SSN: 123-45-6789\n"
          ]
        }
      ]
    },
    {
      "cell_type": "markdown",
      "source": [
        "**The super() Function**\n",
        "Assignment:\n",
        "Create a class Person with a constructor that sets the name. Inherit a class Teacher from it, add a subject field, and use super() to call the base class constructor."
      ],
      "metadata": {
        "id": "vivWKAYX5YnH"
      }
    },
    {
      "cell_type": "code",
      "source": [
        "class Person:\n",
        "    def __init__(self,name):\n",
        "     self.name = name\n",
        "\n",
        "class Teacher(Person):\n",
        "    def __init__(self,name,subject):\n",
        "      super().__init__(name)\n",
        "      self.subject = subject\n",
        "\n",
        "Teacher1 = Teacher(\"Ali\",\"Science\")\n",
        "print(\"Name:\",Teacher1.name)\n",
        "print(\"Subject:\", Teacher1.subject)"
      ],
      "metadata": {
        "colab": {
          "base_uri": "https://localhost:8080/"
        },
        "id": "rnMaLrfA5b8h",
        "outputId": "ed667ecf-c6a6-4bc5-c734-411c898cbb09"
      },
      "execution_count": null,
      "outputs": [
        {
          "output_type": "stream",
          "name": "stdout",
          "text": [
            "Name: Ali\n",
            "Subject: Science\n"
          ]
        }
      ]
    },
    {
      "cell_type": "markdown",
      "source": [
        "**9. Abstract Classes and Methods**\n",
        "Assignment:\n",
        "Use the abc module to create an abstract class Shape with an abstract method area(). Inherit a class Rectangle that implements area()."
      ],
      "metadata": {
        "id": "7fDq0k3S7H2H"
      }
    },
    {
      "cell_type": "code",
      "source": [
        "from abc import ABC, abstractmethod\n",
        "class Shape(ABC):\n",
        "    @abstractmethod\n",
        "    def area(self):\n",
        "        pass\n",
        "\n",
        "class Rectangle(Shape):\n",
        "    def __init__(self, width, height):\n",
        "        self.width = width\n",
        "        self.height = height\n",
        "\n",
        "    def area(self):\n",
        "        return self.width * self.height\n",
        "\n",
        "rect = Rectangle(5, 3)\n",
        "print(\"Area of rectangle is:\", rect.area())"
      ],
      "metadata": {
        "colab": {
          "base_uri": "https://localhost:8080/"
        },
        "id": "memiyA0U7SC5",
        "outputId": "140df4b4-3742-47b9-bd1c-8317f48355db"
      },
      "execution_count": null,
      "outputs": [
        {
          "output_type": "stream",
          "name": "stdout",
          "text": [
            "Area of rectangle is: 15\n"
          ]
        }
      ]
    },
    {
      "cell_type": "markdown",
      "source": [
        "**Instance Methods**\n",
        "Assignment:\n",
        "Create a class Dog with instance variables name and breed. Add an instance method bark() that prints a message including the dog's name."
      ],
      "metadata": {
        "id": "ZwRMB_wQ7sEM"
      }
    },
    {
      "cell_type": "code",
      "source": [
        "class Dog:\n",
        "   def __init__(self,name,breed):\n",
        "    self.name = name\n",
        "    self.breed = breed\n",
        "\n",
        "   def bark(self):\n",
        "    print(f\"{self.name} is barking and breed is {self.breed}.\")\n",
        "\n",
        "Dog1 = Dog(\"Max\",\"Labrador\")\n",
        "Dog1.bark()\n",
        "\n",
        "\n"
      ],
      "metadata": {
        "colab": {
          "base_uri": "https://localhost:8080/"
        },
        "id": "ml_lyYWi72a6",
        "outputId": "a27a6ebf-ea4a-413d-dc4d-a1ae4558eecc"
      },
      "execution_count": null,
      "outputs": [
        {
          "output_type": "stream",
          "name": "stdout",
          "text": [
            "Max is barking and breed is Labrador.\n"
          ]
        }
      ]
    },
    {
      "cell_type": "markdown",
      "source": [
        "**11. Class Methods**\n",
        "Assignment:\n",
        "Create a class Book with a class variable total_books. Add a class method increment_book_count() to increase the count when a new book is added."
      ],
      "metadata": {
        "id": "aZi0CnAM900T"
      }
    },
    {
      "cell_type": "code",
      "source": [
        "class Book:\n",
        "    total_books = 0\n",
        "\n",
        "    @classmethod\n",
        "    def increment_book_count(cls):\n",
        "        cls.total_books += 1\n",
        "\n",
        "    def __init__(self, title, author):\n",
        "        self.title = title\n",
        "        self.author = author\n",
        "        Book.increment_book_count()\n",
        "\n",
        "book1 = Book(\"Python Programming\", \"John Doe\")\n",
        "book2 = Book(\"Data Science Handbook\", \"Jane Smith\")\n",
        "\n",
        "print(\"Total books:\", Book.total_books)"
      ],
      "metadata": {
        "colab": {
          "base_uri": "https://localhost:8080/"
        },
        "id": "uVDNA8Ne9v4A",
        "outputId": "743d4a3f-6e3f-4b0a-ed8b-af0c3420f458"
      },
      "execution_count": null,
      "outputs": [
        {
          "output_type": "stream",
          "name": "stdout",
          "text": [
            "Total books: 2\n"
          ]
        }
      ]
    },
    {
      "cell_type": "markdown",
      "source": [
        "Assignment:\n",
        "Create a class TemperatureConverter with a static method celsius_to_fahrenheit(c) that returns the Fahrenheit value."
      ],
      "metadata": {
        "id": "383eJmwZ-SLk"
      }
    },
    {
      "cell_type": "code",
      "source": [
        "class TemperatureConverter:\n",
        "    @staticmethod\n",
        "    def celsius_to_fahrenheit(c):\n",
        "        return (c * 9/5) + 32\n",
        "\n",
        "celsius = float(input(\"Enter temperature in Celsius: \"))\n",
        "fahrenheit = TemperatureConverter.celsius_to_fahrenheit(celsius)\n",
        "\n",
        "print(f\"{celsius}°C is equal to {fahrenheit}°F\")\n"
      ],
      "metadata": {
        "colab": {
          "base_uri": "https://localhost:8080/"
        },
        "id": "5Xre8964-ass",
        "outputId": "3d5d2792-f1b4-4ceb-d466-391e93c9fd1a"
      },
      "execution_count": null,
      "outputs": [
        {
          "output_type": "stream",
          "name": "stdout",
          "text": [
            "Enter temperature in Celsius: 34.7\n",
            "34.7°C is equal to 94.46000000000001°F\n"
          ]
        }
      ]
    },
    {
      "cell_type": "markdown",
      "source": [
        "\n",
        "**Composition **\n",
        "Assignment:\n",
        "Create a class Engine and a class Car. Use composition by passing an Engine object to the Car class during initialization. Access a method of the Engine class via the Car class."
      ],
      "metadata": {
        "id": "EYduBQcv_XlW"
      }
    },
    {
      "cell_type": "code",
      "source": [
        "class Engine:\n",
        "    def start(self):\n",
        "        print(\"Engine has started\")\n",
        "\n",
        "class Car:\n",
        "    def __init__(self, engine):\n",
        "        self.engine = engine\n",
        "\n",
        "    def start_car(self):\n",
        "        print(\"Starting the car...\")\n",
        "        self.engine.start()\n",
        "\n",
        "engine_obj = Engine()\n",
        "my_car = Car(engine_obj)\n",
        "my_car.start_car()\n"
      ],
      "metadata": {
        "id": "0GS7a-A8_YoW"
      },
      "execution_count": null,
      "outputs": []
    },
    {
      "cell_type": "markdown",
      "source": [
        "14. Aggregation\n",
        "Assignment:\n",
        "Create a class Department and a class Employee. Use aggregation by having a Department object store a reference to an Employee object that exists independently of it."
      ],
      "metadata": {
        "id": "MlViNc1l_8r5"
      }
    },
    {
      "cell_type": "code",
      "source": [
        "class Employee:\n",
        "    def __init__(self, name, emp_id):\n",
        "        self.name = name\n",
        "        self.emp_id = emp_id\n",
        "\n",
        "    def display(self):\n",
        "        print(f\"Employee Name: {self.name}, ID: {self.emp_id}\")\n",
        "\n",
        "class Department:\n",
        "    def __init__(self, department_name, employee):\n",
        "        self.department_name = department_name\n",
        "        self.employee = employee\n",
        "\n",
        "    def show_department(self):\n",
        "        print(f\"Department: {self.department_name}\")\n",
        "        self.employee.display()\n",
        "\n",
        "emp1 = Employee(\"Javeria\", 101)\n",
        "dept1 = Department(\"Web Development\", emp1)\n",
        "\n",
        "dept1.show_department()\n"
      ],
      "metadata": {
        "colab": {
          "base_uri": "https://localhost:8080/"
        },
        "id": "i6I32YUcAAyd",
        "outputId": "8cfc5982-f1eb-4d77-fc93-55b18757e63e"
      },
      "execution_count": null,
      "outputs": [
        {
          "output_type": "stream",
          "name": "stdout",
          "text": [
            "Department: Web Development\n",
            "Employee Name: Javeria, ID: 101\n"
          ]
        }
      ]
    },
    {
      "cell_type": "markdown",
      "source": [
        "**15. Method Resolution Order (MRO) and Diamond Inheritance**\n",
        "Assignment:\n",
        "Create four classes:\n",
        "\n",
        "A with a method show(),\n",
        "\n",
        "B and C that inherit from A and override show(),\n",
        "\n",
        "D that inherits from both B and C.\n",
        "\n",
        "Create an object of D and call show() to observe MRO"
      ],
      "metadata": {
        "id": "9wvToXsNASiK"
      }
    },
    {
      "cell_type": "code",
      "source": [
        "class A:\n",
        "    def show(self):\n",
        "        print(\"Show from class A\")\n",
        "\n",
        "class B(A):\n",
        "    def show(self):\n",
        "        print(\"Show from class B\")\n",
        "\n",
        "class C(A):\n",
        "    def show(self):\n",
        "        print(\"Show from class C\")\n",
        "\n",
        "class D(B, C):\n",
        "    pass\n",
        "\n",
        "obj = D()\n",
        "obj.show()\n",
        "\n",
        "print(D.__mro__)\n"
      ],
      "metadata": {
        "colab": {
          "base_uri": "https://localhost:8080/"
        },
        "id": "tbKZS-jNAU51",
        "outputId": "03a4d935-c5c9-4aab-ec51-e186a13594cb"
      },
      "execution_count": null,
      "outputs": [
        {
          "output_type": "stream",
          "name": "stdout",
          "text": [
            "Show from class B\n",
            "(<class '__main__.D'>, <class '__main__.B'>, <class '__main__.C'>, <class '__main__.A'>, <class 'object'>)\n"
          ]
        }
      ]
    },
    {
      "cell_type": "markdown",
      "source": [
        "**16. Function Decorators**\n",
        "Assignment:\n",
        "Write a decorator function log_function_call that prints \"Function is being called\" before a function executes. Apply it to a function say_hello()."
      ],
      "metadata": {
        "id": "cYuJehVyKWRR"
      }
    },
    {
      "cell_type": "code",
      "source": [
        "def log_function_call(func):\n",
        "    def wrapper():\n",
        "        print(\"Function is being called\")\n",
        "        func()\n",
        "    return wrapper\n",
        "\n",
        "@log_function_call\n",
        "def say_hello():\n",
        "    print(\"Hello!\")\n",
        "\n",
        "say_hello()\n"
      ],
      "metadata": {
        "colab": {
          "base_uri": "https://localhost:8080/"
        },
        "id": "qGuq38V9Kgk6",
        "outputId": "96e1f0da-794c-404d-de8d-bd6b0c73d00e"
      },
      "execution_count": 1,
      "outputs": [
        {
          "output_type": "stream",
          "name": "stdout",
          "text": [
            "Function is being called\n",
            "Hello!\n"
          ]
        }
      ]
    },
    {
      "cell_type": "markdown",
      "source": [
        "**17. Class Decorators**\n",
        "Assignment:\n",
        "Create a class decorator add_greeting that modifies a class to add a greet() method returning \"Hello from Decorator!\". Apply it to a class Person."
      ],
      "metadata": {
        "id": "MC82raxXN6Uw"
      }
    },
    {
      "cell_type": "code",
      "source": [
        "def add_greeting(cls):\n",
        "    def greet(self):\n",
        "        return \"Hello from Decorator!\"\n",
        "    cls.greet = greet\n",
        "    return cls\n",
        "\n",
        "@add_greeting\n",
        "class Person:\n",
        "    def __init__(self, name):\n",
        "        self.name = name\n",
        "\n",
        "p = Person(\"Javeria\")\n",
        "print(p.greet())\n"
      ],
      "metadata": {
        "colab": {
          "base_uri": "https://localhost:8080/"
        },
        "id": "Y3DqhZ3CN9tK",
        "outputId": "c3f9855c-0ee4-4189-9579-7cd9f8d87434"
      },
      "execution_count": 2,
      "outputs": [
        {
          "output_type": "stream",
          "name": "stdout",
          "text": [
            "Hello from Decorator!\n"
          ]
        }
      ]
    },
    {
      "cell_type": "markdown",
      "source": [
        "1**8. Property Decorators: @property, @setter, and @deleter**\n",
        "Assignment:\n",
        "Create a class Product with a private attribute _price. Use @property to get the price, @price.setter to update it, and @price.deleter to delete it."
      ],
      "metadata": {
        "id": "MbrxmFPRVa1E"
      }
    },
    {
      "cell_type": "code",
      "source": [
        "class Product:\n",
        "    def __init__(self, price):\n",
        "        self._price = price  # private attribute\n",
        "\n",
        "    @property\n",
        "    def price(self):\n",
        "        return self._price\n",
        "\n",
        "    @price.setter\n",
        "    def price(self, value):\n",
        "        if value < 0:\n",
        "            raise ValueError(\"Price cannot be negative\")\n",
        "        self._price = value\n",
        "\n",
        "    @price.deleter\n",
        "    def price(self):\n",
        "        del self._price\n",
        "\n",
        "product = Product(100)\n",
        "print(\"Price:\", product.price)\n",
        "\n",
        "product.price = 150\n",
        "print(\"Updated Price:\", product.price)\n",
        "\n",
        "del product.price\n"
      ],
      "metadata": {
        "colab": {
          "base_uri": "https://localhost:8080/"
        },
        "id": "JnhAx8rcVhKd",
        "outputId": "15c04ae1-e230-4cb1-e995-85544134671c"
      },
      "execution_count": 6,
      "outputs": [
        {
          "output_type": "stream",
          "name": "stdout",
          "text": [
            "Price: 100\n",
            "Updated Price: 150\n"
          ]
        }
      ]
    },
    {
      "cell_type": "markdown",
      "source": [
        "**19. callable() and __call__()**\n",
        "Assignment:\n",
        "Create a class Multiplier with an __init__() to set a factor. Define a __call__() method that multiplies an input by the factor. Test it with callable() and by calling the object like a function."
      ],
      "metadata": {
        "id": "C_LRmptTWJz-"
      }
    },
    {
      "cell_type": "code",
      "source": [
        "class Multiplier:\n",
        "    def __init__(self, factor):\n",
        "        self.factor = factor\n",
        "\n",
        "    def __call__(self, number):\n",
        "        return self.factor * number\n",
        "\n",
        "\n",
        "m = Multiplier(5)\n",
        "\n",
        "print(callable(m))\n",
        "\n",
        "result = m(10)\n",
        "print(result)\n"
      ],
      "metadata": {
        "colab": {
          "base_uri": "https://localhost:8080/"
        },
        "id": "p8auzVhRWMB6",
        "outputId": "df566a60-ae97-4fbd-ce0d-987d58d9fc42"
      },
      "execution_count": 7,
      "outputs": [
        {
          "output_type": "stream",
          "name": "stdout",
          "text": [
            "True\n",
            "50\n"
          ]
        }
      ]
    },
    {
      "cell_type": "markdown",
      "source": [
        "**20. Creating a Custom Exception**\n",
        "Assignment:\n",
        "Create a custom exception InvalidAgeError. Write a function check_age(age) that raises this exception if age < 18. Handle it with try...except."
      ],
      "metadata": {
        "id": "NoYsLzQ2Wlzn"
      }
    },
    {
      "cell_type": "code",
      "source": [
        "\n",
        "class InvalidAgeError(Exception):\n",
        "    pass\n",
        "\n",
        "\n",
        "def check_age(age):\n",
        "    if age < 18:\n",
        "        raise InvalidAgeError(\"Age must be at least 18.\")\n",
        "    else:\n",
        "        print(\"Access granted!\")\n",
        "\n",
        "\n",
        "try:\n",
        "    user_age = int(input(\"Enter your age: \"))\n",
        "    check_age(user_age)\n",
        "except InvalidAgeError as e:\n",
        "    print(\"Error:\", e)\n"
      ],
      "metadata": {
        "colab": {
          "base_uri": "https://localhost:8080/"
        },
        "id": "D567nxebWsHr",
        "outputId": "049130da-424b-4101-f904-99e20b14bbe1"
      },
      "execution_count": 8,
      "outputs": [
        {
          "output_type": "stream",
          "name": "stdout",
          "text": [
            "Enter your age: 20\n",
            "Access granted!\n"
          ]
        }
      ]
    },
    {
      "cell_type": "markdown",
      "source": [
        "**21. Make a Custom Class Iterable**\n",
        "Assignment:\n",
        "Create a class Countdown that takes a start number. Implement __iter__() and __next__() to make the object iterable in a for-loop, counting down to 0."
      ],
      "metadata": {
        "id": "a96ghUazW-Tq"
      }
    },
    {
      "cell_type": "code",
      "source": [
        "class Countdown:\n",
        "    def __init__(self, start):\n",
        "        self.current = start\n",
        "\n",
        "    def __iter__(self):\n",
        "        return self\n",
        "\n",
        "    def __next__(self):\n",
        "        if self.current < 0:\n",
        "            raise StopIteration\n",
        "        value = self.current\n",
        "        self.current -= 1\n",
        "        return value\n",
        "for num in Countdown(5):\n",
        "    print(num)\n"
      ],
      "metadata": {
        "colab": {
          "base_uri": "https://localhost:8080/"
        },
        "id": "q3Ph_3tnXBD_",
        "outputId": "dba4d15b-811c-4eed-f1b9-fd1682ed5c7b"
      },
      "execution_count": 10,
      "outputs": [
        {
          "output_type": "stream",
          "name": "stdout",
          "text": [
            "5\n",
            "4\n",
            "3\n",
            "2\n",
            "1\n",
            "0\n"
          ]
        }
      ]
    }
  ]
}